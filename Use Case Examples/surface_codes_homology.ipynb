{
 "cells": [
  {
   "cell_type": "code",
   "execution_count": 1,
   "metadata": {},
   "outputs": [],
   "source": [
    "from collections import Counter\n",
    "from typing import Tuple, List\n",
    "import numpy as np\n",
    "from networkx import MultiGraph\n",
    "from networkx import nx\n",
    "from sympy.combinatorics import Permutation\n",
    "import matplotlib.pyplot as plt\n",
    "\n",
    "\n",
    "# from SurfaceCodes.utilites import permlist_to_tuple\n",
    "\n",
    "\n",
    "class SurfaceCodeGraph(MultiGraph):\n",
    "    def __init__(self, sigma: Tuple[Tuple[int]], alpha: Tuple[Tuple[int]]):\n",
    "        super().__init__()\n",
    "        self.sigma = sigma  # should include singletons corresponding to fixed points\n",
    "        self.alpha = alpha  # should include singletons corresponding to fixed points\n",
    "        f = self.compute_phi()\n",
    "        self.phi = self.permlist_to_tuple(f)\n",
    "        self.node_info = self.build_node_info()  # print dictionary for [sigma, alpha, phi]\n",
    "\n",
    "        self.code_graph = nx.MultiGraph()\n",
    "\n",
    "        # Create black nodes for each cycle in sigma along with white nodes\n",
    "        # representing \"half edges\" around the black nodes\n",
    "        for cycle in self.sigma:\n",
    "            self.code_graph.add_node(cycle, bipartite=1)\n",
    "            for node in cycle:\n",
    "                self.code_graph.add_node(node, bipartite=0)\n",
    "                self.code_graph.add_edge(cycle, node)\n",
    "\n",
    "        # Create black nodes for each cycle in phi along with white nodes\n",
    "        # representing \"half edges\" around the black nodes\n",
    "        for cycle in self.phi:\n",
    "            self.code_graph.add_node(cycle, bipartite=1)\n",
    "            for node in cycle:\n",
    "                self.code_graph.add_edge(cycle, node)\n",
    "\n",
    "        # Create nodes for each cycle in alpha then\n",
    "        # glue the nodes corresponding to a the pairs\n",
    "        for pair in self.alpha:\n",
    "            self.code_graph.add_node(pair)\n",
    "            self.code_graph = nx.contracted_nodes(self.code_graph, pair[0], pair[1], self_loops=True)\n",
    "            # Now contract pair with pair[0] to make sure edges (white nodes) are labeled\n",
    "            # by the pairs in alpha to keep track of the gluing from the previous step\n",
    "            self.code_graph = nx.contracted_nodes(self.code_graph, pair, pair[0], self_loops=True)\n",
    "\n",
    "    def permlist_to_tuple(self, perms):\n",
    "        \"\"\"\n",
    "        convert list of lists to tuple of tuples in order to have two level iterables\n",
    "        that are hashable for the dictionaries used later\n",
    "        \"\"\"\n",
    "        return tuple(tuple(perm) for perm in perms)\n",
    "\n",
    "    def compute_phi(self):\n",
    "        \"\"\"compute the list of lists full cyclic form of phi (faces of dessin [sigma, alpha, phi])\"\"\"\n",
    "        s = Permutation(self.sigma)\n",
    "        a = Permutation(self.alpha)\n",
    "        f = ~(a * s)\n",
    "        f = f.full_cyclic_form  # prints permutation as a list of lists including all singletons (fixed points)\n",
    "        return f\n",
    "\n",
    "    def build_node_info(self):\n",
    "        count = -1\n",
    "\n",
    "        self.sigma_dict = dict()\n",
    "        for count, cycle in enumerate(self.sigma):\n",
    "            self.sigma_dict[cycle] = count\n",
    "\n",
    "        self.phi_dict = dict()\n",
    "        for count, cycle in enumerate(self.phi, start=count + 1):\n",
    "            self.phi_dict[cycle] = count\n",
    "\n",
    "        self.alpha_dict = dict()\n",
    "        for count, pair in enumerate(self.alpha, start=count + 1):\n",
    "            self.alpha_dict[pair] = count\n",
    "        return tuple([self.sigma_dict, self.alpha_dict, self.phi_dict])\n",
    "\n",
    "   \n",
    "\n",
    "    def boundary_1(self, edge):\n",
    "        \"\"\"\n",
    "        compute boundary of a single edge given by a white node (cycle in alpha)\n",
    "        \"\"\"\n",
    "#         if len(self.code_graph.neighbors(edge)) < 2:\n",
    "#             boundary1 = []\n",
    "        # else:\n",
    "        boundary1 = Counter([x[1] for x in self.code_graph.edges(edge) if x[1] in self.sigma_dict])\n",
    "        odd_boundaries = [x for x in boundary1 if boundary1[x] % 2]\n",
    "        # [node for node in self.code_graph.neighbors(edge) if node in self.sigma_dict]\n",
    "        return odd_boundaries\n",
    "\n",
    "    def del_1(self, edges: List[Tuple[int]]):\n",
    "        \"\"\"\n",
    "        boundary of a list of edges, i.e. an arbitrary 1-chain over Z/2Z\n",
    "        \"\"\"\n",
    "\n",
    "        boundary_list = [self.boundary_1(edge) for edge in edges]\n",
    "        a = Counter([y for x in boundary_list for y in x])\n",
    "        boundary_list = [x[0] for x in a.items() if x[1] % 2 == 1]\n",
    "        return boundary_list\n",
    "\n",
    "    def boundary_2(self, face):\n",
    "        \"\"\"\n",
    "        compute boundary of a single face node\n",
    "        \"\"\"\n",
    "        # boundary2 = [node for node in self.code_graph.neighbors(face) if node in self.alpha_dict]\n",
    "        boundary2 = Counter([x[1] for x in self.code_graph.edges(face) if x[1] in self.alpha_dict])\n",
    "        odd_boundaries = [x for x in boundary2 if boundary2[x] % 2]\n",
    "        return odd_boundaries\n",
    "\n",
    "    def del_2(self, faces: List[Tuple[int]]):\n",
    "        \"\"\"\n",
    "        boundary of a list of faces, i.e. an arbitrary 2-chain over Z/2Z\n",
    "        \"\"\"\n",
    "\n",
    "        boundary_list = [self.boundary_2(face) for face in faces]\n",
    "        a = Counter([y for x in boundary_list for y in x])\n",
    "        boundary_list = [x[0] for x in a.items() if x[1] % 2 == 1]\n",
    "        return boundary_list\n",
    "\n",
    "    def coboundary_1(self, star):\n",
    "        \"\"\"\n",
    "        compute coboundary of a single star\n",
    "        \"\"\"\n",
    "        # coboundary = self.code_graph.neighbors(star)\n",
    "        coboundary1 = Counter([x[1] for x in self.code_graph.edges(star)])\n",
    "        odd_coboundaries = [x for x in coboundary1 if coboundary1[x] % 2]\n",
    "        return odd_coboundaries\n",
    "\n",
    "    def delta_1(self, stars: List[Tuple[int]]):\n",
    "        \"\"\"\n",
    "        coboundary of a list of stars, i.e. an arbitrary 0-cochain over Z/2Z\n",
    "        \"\"\"\n",
    "        coboundary_list = [self.coboundary_1(star) for star in stars]\n",
    "        a = Counter([y for x in coboundary_list for y in x])\n",
    "        coboundary_list = [x[0] for x in a.items() if x[1] % 2 == 1]\n",
    "        return coboundary_list\n",
    "\n",
    "    def coboundary_2(self, edge):\n",
    "        \"\"\"\n",
    "        compute coboundary of a single edge given by a white node (cycle in alpha)\n",
    "        \"\"\"\n",
    "        # coboundary2 = [node for node in self.code_graph.neighbors(edge) if node in self.phi_dict]\n",
    "        coboundary2 = Counter([x[1] for x in self.code_graph.edges(edge) if x[1] in self.phi_dict])\n",
    "        odd_coboundaries = [x for x in coboundary2 if coboundary2[x] % 2]\n",
    "        return odd_coboundaries\n",
    "\n",
    "    def delta_2(self, edges: List[Tuple[int]]):\n",
    "        \"\"\"\n",
    "        coboundary of a list of edges, i.e. an arbitrary 1-cochain over Z/2Z\n",
    "        given by a list of cycles in alpha\n",
    "        \"\"\"\n",
    "        coboundary_list = [self.coboundary_2(edge) for edge in edges]\n",
    "        a = Counter([y for x in coboundary_list for y in x])\n",
    "        coboundary_list = [x[0] for x in a.items() if x[1] % 2 == 1]\n",
    "        return coboundary_list\n",
    "\n",
    "\n",
    "    \n",
    "    \n",
    "\n",
    "    def vertex_basis(self):\n",
    "        self.v_basis_dict = dict()\n",
    "        self.v_dict = dict()\n",
    "        A = np.eye(len(self.sigma), dtype=np.uint8)\n",
    "        for count, cycle in enumerate(self.sigma):\n",
    "            self.v_dict[cycle] = count\n",
    "            self.v_basis_dict[cycle] = A[count, :].T\n",
    "        return (self.v_basis_dict)\n",
    "\n",
    "    def edge_basis(self):\n",
    "        self.e_basis_dict = dict()\n",
    "        self.e_dict = dict()\n",
    "        B = np.eye(len(self.alpha), dtype=np.uint8)\n",
    "        for count, cycle in enumerate(self.alpha):\n",
    "            self.e_dict[cycle] = count\n",
    "            self.e_basis_dict[cycle] = B[count, :].T\n",
    "        return (self.e_basis_dict)\n",
    "\n",
    "    def face_basis(self):\n",
    "        self.f_basis_dict = dict()\n",
    "        self.f_dict = dict()\n",
    "        C = np.eye(len(self.phi), dtype=np.uint8)\n",
    "        for count, cycle in enumerate(self.phi):\n",
    "            self.f_dict[cycle] = count\n",
    "            self.f_basis_dict[cycle] = C[count, :].T\n",
    "        return (self.f_basis_dict)\n",
    "\n",
    "    \n",
    "    \n",
    "    \n",
    "    \n",
    "    def d_2(self):\n",
    "        self.D2 = np.zeros(len(self.e_dict), dtype=np.uint8)\n",
    "        for cycle in self.phi:\n",
    "            bd = self.boundary_2(cycle)\n",
    "            if bd != []:\n",
    "                image = sum([self.e_basis_dict[edge] for edge in bd])\n",
    "            else:\n",
    "                image = np.zeros(len(self.e_dict))\n",
    "            self.D2 = np.vstack((self.D2, image))\n",
    "        self.D2 = np.array(self.D2[1:, :]).T\n",
    "        return self.D2, self.D2.shape\n",
    "\n",
    "    \n",
    "    def d_1(self):\n",
    "        self.D1 = np.zeros(len(self.v_dict), dtype=np.uint8)\n",
    "        for cycle in self.alpha:\n",
    "            bd = self.boundary_1(cycle)\n",
    "            if bd != []:\n",
    "                image = sum([self.v_basis_dict[vertex] for vertex in bd])\n",
    "            else:\n",
    "                bd = np.zeros(len(self.e_dict))\n",
    "            self.D1 = np.vstack((self.D1, image))\n",
    "        self.D1 = np.array(self.D1[1:, :]).T\n",
    "        return self.D1, self.D1.shape\n",
    "\n",
    "   \n",
    "    def euler_characteristic(self):\n",
    "        \"\"\"\n",
    "        Compute the Euler characteristic of the surface in which the graph is embedded\n",
    "        \"\"\"\n",
    "        chi = len(self.phi) - len(self.alpha) + len(self.sigma)\n",
    "        return (chi)\n",
    "\n",
    "    def genus(self):\n",
    "        \"\"\"\n",
    "        Compute the genus of the surface in which the graph is embedded\n",
    "        \"\"\"\n",
    "        g = int(-(len(self.phi) - len(self.alpha) + len(self.sigma) - 2) / 2)\n",
    "        return (g)\n",
    "\n",
    "    def draw(self, node_type='', layout=''):\n",
    "        \"\"\"\n",
    "        Draw graph with vertices, edges, and faces labeled by colored nodes and their integer indices\n",
    "        corresponding to the qubit indices for the surface code\n",
    "        \"\"\"\n",
    "        if node_type not in ['cycles', 'dict']:\n",
    "            raise ValueError('node_type can be \"cycles\" or \"dict\"')\n",
    "        elif layout == 'spring':\n",
    "            pos = nx.spring_layout(self.code_graph)\n",
    "        elif layout == 'spectral':\n",
    "            pos = nx.spectral_layout(self.code_graph)\n",
    "        elif layout == 'planar':\n",
    "            pos = nx.planar_layout(self.code_graph)\n",
    "        elif layout == 'shell':\n",
    "            pos = nx.shell_layout(self.code_graph)\n",
    "        elif layout == 'circular':\n",
    "            pos = nx.circular_layout(self.code_graph)\n",
    "        elif layout == 'spiral':\n",
    "            pos = nx.spiral_layout(self.code_graph)\n",
    "        elif layout == 'random':\n",
    "            pos = nx.random_layout(self.code_graph)\n",
    "        else:\n",
    "            raise ValueError(\n",
    "                \"no layout defined: try one of these: \" +\n",
    "                \"['spring','spectral','planar','shell','circular','spiral','random']\")\n",
    "            # white nodes\n",
    "        nx.draw_networkx_nodes(self.code_graph, pos,\n",
    "                               nodelist=list(self.alpha),\n",
    "                               node_color='c',\n",
    "                               node_size=500,\n",
    "                               alpha=0.3)\n",
    "        # vertex nodes\n",
    "        nx.draw_networkx_nodes(self.code_graph, pos,\n",
    "                               nodelist=list(self.sigma),\n",
    "                               node_color='b',\n",
    "                               node_size=500,\n",
    "                               alpha=0.6)\n",
    "        # face nodes\n",
    "        nx.draw_networkx_nodes(self.code_graph, pos,\n",
    "                               nodelist=list(self.phi),\n",
    "                               node_color='r',\n",
    "                               node_size=500,\n",
    "                               alpha=0.6)\n",
    "        # edges\n",
    "        nx.draw_networkx_edges(self.code_graph, pos, width=1.0, alpha=0.5)\n",
    "\n",
    "        labels = {}\n",
    "\n",
    "        if node_type == 'cycles':\n",
    "            '''\n",
    "            label nodes the cycles of sigma, alpha, and phi\n",
    "            '''\n",
    "            for node in self.alpha_dict:\n",
    "                # stuff = self.alpha_dict[node]\n",
    "                labels[node] = f'$e$({node})'\n",
    "            for node in self.sigma_dict:\n",
    "                # something = self.sigma_dict[node]\n",
    "                labels[node] = f'$v$({node})'\n",
    "            for node in self.phi_dict:\n",
    "                # something2 = self.phi_dict[node]\n",
    "                labels[node] = f'$f$({node})'\n",
    "            nx.draw_networkx_labels(self.code_graph, pos, labels, font_size=12)\n",
    "\n",
    "        if node_type == 'dict':\n",
    "            '''\n",
    "            label nodes with v, e, f and indices given by node_dict corresponding to\n",
    "            qubit indices of surface code\n",
    "            '''\n",
    "\n",
    "            for node in self.alpha_dict:\n",
    "                # stuff = self.alpha_dict[node]\n",
    "                labels[node] = f'$e$({self.alpha_dict[node]})'\n",
    "            for node in self.sigma_dict:\n",
    "                # something = self.sigma_dict[node]\n",
    "                labels[node] = f'$v$({self.sigma_dict[node]})'\n",
    "            for node in self.phi_dict:\n",
    "                # something2 = self.phi_dict[node]\n",
    "                labels[node] = f'$f$({self.phi_dict[node]})'\n",
    "            nx.draw_networkx_labels(self.code_graph, pos, labels, font_size=12)\n",
    "\n",
    "        # plt.axis('off')\n",
    "        # plt.savefig(\"labels_and_colors.png\") # save as png\n",
    "        plt.show()  # display\n"
   ]
  },
  {
   "cell_type": "code",
   "execution_count": 2,
   "metadata": {},
   "outputs": [],
   "source": [
    "sigma = ((0,1,2), (3,4,5), (6,7,8,9))\n",
    "alpha = ((0,3),(1,4),(2,6),(5,7),(8,9))\n",
    "SCG = SurfaceCodeGraph(sigma, alpha)"
   ]
  },
  {
   "cell_type": "code",
   "execution_count": 3,
   "metadata": {},
   "outputs": [
    {
     "data": {
      "image/png": "[encoded data removed]",
      "text/plain": [
       "<Figure size 432x288 with 1 Axes>"
      ]
     },
     "metadata": {},
     "output_type": "display_data"
    }
   ],
   "source": [
    "SCG.draw('dict', layout = 'spring')"
   ]
  },
  {
   "cell_type": "code",
   "execution_count": 4,
   "metadata": {},
   "outputs": [
    {
     "data": {
      "image/png": "[encoded data removed]",
      "text/plain": [
       "<Figure size 432x288 with 1 Axes>"
      ]
     },
     "metadata": {},
     "output_type": "display_data"
    }
   ],
   "source": [
    "SCG.draw('cycles', layout = 'spring')"
   ]
  },
  {
   "cell_type": "code",
   "execution_count": 5,
   "metadata": {},
   "outputs": [
    {
     "data": {
      "text/plain": [
       "({(0, 1, 2): 0, (3, 4, 5): 1, (6, 7, 8, 9): 2},\n",
       " {(0, 3): 5, (1, 4): 6, (2, 6): 7, (5, 7): 8, (8, 9): 9},\n",
       " {(0, 6, 8, 5, 1, 3, 7, 2, 4): 3, (9,): 4})"
      ]
     },
     "execution_count": 5,
     "metadata": {},
     "output_type": "execute_result"
    }
   ],
   "source": [
    "SCG.node_info"
   ]
  },
  {
   "cell_type": "code",
   "execution_count": 6,
   "metadata": {},
   "outputs": [
    {
     "data": {
      "text/plain": [
       "1"
      ]
     },
     "execution_count": 6,
     "metadata": {},
     "output_type": "execute_result"
    }
   ],
   "source": [
    "SCG.genus()"
   ]
  },
  {
   "cell_type": "code",
   "execution_count": 7,
   "metadata": {},
   "outputs": [
    {
     "data": {
      "text/plain": [
       "{(0, 6, 8, 5, 1, 3, 7, 2, 4): array([1, 0], dtype=uint8),\n",
       " (9,): array([0, 1], dtype=uint8)}"
      ]
     },
     "execution_count": 7,
     "metadata": {},
     "output_type": "execute_result"
    }
   ],
   "source": [
    "SCG.face_basis()"
   ]
  },
  {
   "cell_type": "code",
   "execution_count": 8,
   "metadata": {},
   "outputs": [
    {
     "data": {
      "text/plain": [
       "{(0, 1, 2): array([1, 0, 0], dtype=uint8),\n",
       " (3, 4, 5): array([0, 1, 0], dtype=uint8),\n",
       " (6, 7, 8, 9): array([0, 0, 1], dtype=uint8)}"
      ]
     },
     "execution_count": 8,
     "metadata": {},
     "output_type": "execute_result"
    }
   ],
   "source": [
    "SCG.vertex_basis()"
   ]
  },
  {
   "cell_type": "code",
   "execution_count": 9,
   "metadata": {},
   "outputs": [
    {
     "data": {
      "text/plain": [
       "{(0, 3): array([1, 0, 0, 0, 0], dtype=uint8),\n",
       " (1, 4): array([0, 1, 0, 0, 0], dtype=uint8),\n",
       " (2, 6): array([0, 0, 1, 0, 0], dtype=uint8),\n",
       " (5, 7): array([0, 0, 0, 1, 0], dtype=uint8),\n",
       " (8, 9): array([0, 0, 0, 0, 1], dtype=uint8)}"
      ]
     },
     "execution_count": 9,
     "metadata": {},
     "output_type": "execute_result"
    }
   ],
   "source": [
    "SCG.edge_basis()"
   ]
  },
  {
   "cell_type": "code",
   "execution_count": 10,
   "metadata": {},
   "outputs": [
    {
     "data": {
      "text/plain": [
       "[(0, 1, 2), (3, 4, 5)]"
      ]
     },
     "execution_count": 10,
     "metadata": {},
     "output_type": "execute_result"
    }
   ],
   "source": [
    "SCG.del_1([(0,3)])"
   ]
  },
  {
   "cell_type": "code",
   "execution_count": 11,
   "metadata": {},
   "outputs": [
    {
     "data": {
      "text/plain": [
       "[(0, 1, 2), (3, 4, 5)]"
      ]
     },
     "execution_count": 11,
     "metadata": {},
     "output_type": "execute_result"
    }
   ],
   "source": [
    "SCG.boundary_1((0,3))"
   ]
  },
  {
   "cell_type": "code",
   "execution_count": 12,
   "metadata": {},
   "outputs": [
    {
     "data": {
      "text/plain": [
       "[(0, 1, 2), (3, 4, 5)]"
      ]
     },
     "execution_count": 12,
     "metadata": {},
     "output_type": "execute_result"
    }
   ],
   "source": [
    "SCG.del_1([(1,4)])"
   ]
  },
  {
   "cell_type": "code",
   "execution_count": 13,
   "metadata": {},
   "outputs": [
    {
     "data": {
      "text/plain": [
       "[(0, 1, 2), (3, 4, 5)]"
      ]
     },
     "execution_count": 13,
     "metadata": {},
     "output_type": "execute_result"
    }
   ],
   "source": [
    "SCG.boundary_1((1,4))"
   ]
  },
  {
   "cell_type": "code",
   "execution_count": 14,
   "metadata": {},
   "outputs": [
    {
     "data": {
      "text/plain": [
       "[(0, 1, 2), (6, 7, 8, 9)]"
      ]
     },
     "execution_count": 14,
     "metadata": {},
     "output_type": "execute_result"
    }
   ],
   "source": [
    "SCG.del_1([(2,6)])"
   ]
  },
  {
   "cell_type": "code",
   "execution_count": 15,
   "metadata": {},
   "outputs": [
    {
     "data": {
      "text/plain": [
       "[(0, 1, 2), (6, 7, 8, 9)]"
      ]
     },
     "execution_count": 15,
     "metadata": {},
     "output_type": "execute_result"
    }
   ],
   "source": [
    "SCG.boundary_1((2,6))"
   ]
  },
  {
   "cell_type": "code",
   "execution_count": 16,
   "metadata": {},
   "outputs": [
    {
     "data": {
      "text/plain": [
       "[(3, 4, 5), (6, 7, 8, 9)]"
      ]
     },
     "execution_count": 16,
     "metadata": {},
     "output_type": "execute_result"
    }
   ],
   "source": [
    "SCG.del_1([(5,7)])"
   ]
  },
  {
   "cell_type": "code",
   "execution_count": 17,
   "metadata": {},
   "outputs": [
    {
     "data": {
      "text/plain": [
       "[(3, 4, 5), (6, 7, 8, 9)]"
      ]
     },
     "execution_count": 17,
     "metadata": {},
     "output_type": "execute_result"
    }
   ],
   "source": [
    "SCG.boundary_1((5,7))"
   ]
  },
  {
   "cell_type": "code",
   "execution_count": 18,
   "metadata": {},
   "outputs": [
    {
     "data": {
      "text/plain": [
       "[]"
      ]
     },
     "execution_count": 18,
     "metadata": {},
     "output_type": "execute_result"
    }
   ],
   "source": [
    "SCG.del_1([(8,9)])"
   ]
  },
  {
   "cell_type": "code",
   "execution_count": 19,
   "metadata": {},
   "outputs": [
    {
     "data": {
      "text/plain": [
       "[]"
      ]
     },
     "execution_count": 19,
     "metadata": {},
     "output_type": "execute_result"
    }
   ],
   "source": [
    "SCG.boundary_1((8,9))"
   ]
  },
  {
   "cell_type": "code",
   "execution_count": 20,
   "metadata": {},
   "outputs": [
    {
     "data": {
      "text/plain": [
       "(array([[1, 1, 1, 0, 0],\n",
       "        [1, 1, 0, 1, 1],\n",
       "        [0, 0, 1, 1, 1]], dtype=uint8),\n",
       " (3, 5))"
      ]
     },
     "execution_count": 20,
     "metadata": {},
     "output_type": "execute_result"
    }
   ],
   "source": [
    "SCG.d_1()"
   ]
  },
  {
   "cell_type": "code",
   "execution_count": 21,
   "metadata": {},
   "outputs": [
    {
     "data": {
      "text/plain": [
       "(array([[0, 0],\n",
       "        [0, 0],\n",
       "        [0, 0],\n",
       "        [0, 0],\n",
       "        [1, 1]], dtype=uint8),\n",
       " (5, 2))"
      ]
     },
     "execution_count": 21,
     "metadata": {},
     "output_type": "execute_result"
    }
   ],
   "source": [
    "SCG.d_2()"
   ]
  },
  {
   "cell_type": "code",
   "execution_count": 22,
   "metadata": {},
   "outputs": [
    {
     "data": {
      "text/plain": [
       "array([[1, 1, 1, 0, 0],\n",
       "       [1, 1, 0, 1, 1],\n",
       "       [0, 0, 1, 1, 1]], dtype=uint8)"
      ]
     },
     "execution_count": 22,
     "metadata": {},
     "output_type": "execute_result"
    }
   ],
   "source": [
    "SCG.D1"
   ]
  },
  {
   "cell_type": "code",
   "execution_count": 23,
   "metadata": {},
   "outputs": [
    {
     "data": {
      "text/plain": [
       "array([[0, 0],\n",
       "       [0, 0],\n",
       "       [0, 0],\n",
       "       [0, 0],\n",
       "       [1, 1]], dtype=uint8)"
      ]
     },
     "execution_count": 23,
     "metadata": {},
     "output_type": "execute_result"
    }
   ],
   "source": [
    "SCG.D2"
   ]
  },
  {
   "cell_type": "code",
   "execution_count": 24,
   "metadata": {},
   "outputs": [],
   "source": [
    "def rowSwap(A, i, j):\n",
    "    temp = np.copy(A[i, :])\n",
    "    A[i, :] = A[j, :]\n",
    "    A[j, :] = temp\n",
    "\n",
    "\n",
    "def colSwap(A, i, j):\n",
    "    temp = np.copy(A[:, i])\n",
    "    A[:, i] = A[:, j]\n",
    "    A[:, j] = temp\n",
    "\n",
    "\n",
    "def scaleCol(A, i, c):\n",
    "    A[:, i] *= int(c) * np.ones(A.shape[0], dtype=np.int64)\n",
    "\n",
    "\n",
    "def scaleRow(A, i, c):\n",
    "    A[i, :] = np.array(A[i, :], dtype=np.float64) * c * np.ones(A.shape[1], dtype=np.float64)\n",
    "\n",
    "\n",
    "def colCombine(A, addTo, scaleCol, scaleAmt):\n",
    "    A[:, addTo] += scaleAmt * A[:, scaleCol]\n",
    "\n",
    "\n",
    "def rowCombine(A, addTo, scaleRow, scaleAmt):\n",
    "    A[addTo, :] += scaleAmt * A[scaleRow, :]"
   ]
  },
  {
   "cell_type": "code",
   "execution_count": 25,
   "metadata": {},
   "outputs": [],
   "source": [
    "def simultaneousReduce(A, B):\n",
    "    if A.shape[1] != B.shape[0]:\n",
    "        raise Exception(\"Matrices have the wrong shape.\")\n",
    "\n",
    "    numRows, numCols = A.shape\n",
    "\n",
    "    i, j = 0, 0\n",
    "    while True:\n",
    "        if i >= numRows or j >= numCols:\n",
    "            break\n",
    "\n",
    "        if A[i, j] == 0:\n",
    "            nonzeroCol = j\n",
    "            while nonzeroCol < numCols and A[i, nonzeroCol] == 0:\n",
    "                nonzeroCol += 1\n",
    "\n",
    "            if nonzeroCol == numCols:\n",
    "                i += 1\n",
    "                continue\n",
    "\n",
    "            colSwap(A, j, nonzeroCol)\n",
    "            rowSwap(B, j, nonzeroCol)\n",
    "\n",
    "        pivot = A[i, j]\n",
    "        scaleCol(A, j, 1.0 / pivot)\n",
    "        scaleRow(B, j, 1.0 / pivot)\n",
    "\n",
    "        for otherCol in range(0, numCols):\n",
    "            if otherCol == j:\n",
    "                continue\n",
    "            if A[i, otherCol] != 0:\n",
    "                scaleAmt = -A[i, otherCol]\n",
    "                colCombine(A, otherCol, j, scaleAmt)\n",
    "                rowCombine(B, j, otherCol, -scaleAmt)\n",
    "\n",
    "        i += 1;\n",
    "        j += 1\n",
    "\n",
    "    return A%2, B%2\n",
    "\n",
    "\n",
    "def finishRowReducing(B):\n",
    "    numRows, numCols = B.shape\n",
    "\n",
    "    i, j = 0, 0\n",
    "    while True:\n",
    "        if i >= numRows or j >= numCols:\n",
    "            break\n",
    "\n",
    "        if B[i, j] == 0:\n",
    "            nonzeroRow = i\n",
    "            while nonzeroRow < numRows and B[nonzeroRow, j] == 0:\n",
    "                nonzeroRow += 1\n",
    "\n",
    "            if nonzeroRow == numRows:\n",
    "                j += 1\n",
    "                continue\n",
    "\n",
    "            rowSwap(B, i, nonzeroRow)\n",
    "\n",
    "        pivot = B[i, j]\n",
    "        scaleRow(B, i, 1.0 / pivot)\n",
    "\n",
    "        for otherRow in range(0, numRows):\n",
    "            if otherRow == i:\n",
    "                continue\n",
    "            if B[otherRow, j] != 0:\n",
    "                scaleAmt = -B[otherRow, j]\n",
    "                rowCombine(B, otherRow, i, scaleAmt)\n",
    "\n",
    "        i += 1;\n",
    "        j += 1\n",
    "\n",
    "    return B%2\n",
    "\n",
    "\n",
    "def numPivotCols(A):\n",
    "    z = np.zeros(A.shape[0])\n",
    "    return [np.all(A[:, j] == z) for j in range(A.shape[1])].count(False)\n",
    "\n",
    "\n",
    "def numPivotRows(A):\n",
    "    z = np.zeros(A.shape[1])\n",
    "    return [np.all(A[i, :] == z) for i in range(A.shape[0])].count(False)\n",
    "\n",
    "\n",
    "def bettiNumber(d_k, d_kplus1):\n",
    "    A, B = np.copy(d_k), np.copy(d_kplus1)\n",
    "    simultaneousReduce(A, B)\n",
    "    finishRowReducing(B)\n",
    "\n",
    "    dimKChains = A.shape[1]\n",
    "    print(\"dim 1-chains:\",dimKChains)\n",
    "    kernelDim = dimKChains - numPivotCols(A)\n",
    "    print(\"dim ker d_1:\",kernelDim)\n",
    "    imageDim = numPivotRows(B)\n",
    "    print(\"dim im d_2:\",imageDim)\n",
    "\n",
    "    return \"dim homology:\",kernelDim - imageDim\n"
   ]
  },
  {
   "cell_type": "code",
   "execution_count": 26,
   "metadata": {},
   "outputs": [
    {
     "data": {
      "text/plain": [
       "(array([[1., 0., 0., 0., 0.],\n",
       "        [0., 1., 0., 0., 0.],\n",
       "        [1., 1., 0., 0., 0.]]),\n",
       " array([[0., 0.],\n",
       "        [1., 1.],\n",
       "        [1., 1.],\n",
       "        [0., 0.],\n",
       "        [1., 1.]]))"
      ]
     },
     "execution_count": 26,
     "metadata": {},
     "output_type": "execute_result"
    }
   ],
   "source": [
    "simultaneousReduce(SCG.D1.astype('float64'), SCG.D2.astype('float64'))"
   ]
  },
  {
   "cell_type": "code",
   "execution_count": 27,
   "metadata": {},
   "outputs": [
    {
     "data": {
      "text/plain": [
       "array([[1., 1.],\n",
       "       [0., 0.],\n",
       "       [0., 0.],\n",
       "       [0., 0.],\n",
       "       [0., 0.]])"
      ]
     },
     "execution_count": 27,
     "metadata": {},
     "output_type": "execute_result"
    }
   ],
   "source": [
    "finishRowReducing(SCG.D2.astype('float64'))"
   ]
  },
  {
   "cell_type": "code",
   "execution_count": 28,
   "metadata": {},
   "outputs": [
    {
     "data": {
      "text/plain": [
       "2"
      ]
     },
     "execution_count": 28,
     "metadata": {},
     "output_type": "execute_result"
    }
   ],
   "source": [
    "numPivotCols(SCG.D2.astype('float64'))"
   ]
  },
  {
   "cell_type": "code",
   "execution_count": 29,
   "metadata": {},
   "outputs": [
    {
     "data": {
      "text/plain": [
       "1"
      ]
     },
     "execution_count": 29,
     "metadata": {},
     "output_type": "execute_result"
    }
   ],
   "source": [
    "numPivotRows(SCG.D2.astype('float64'))"
   ]
  },
  {
   "cell_type": "code",
   "execution_count": 30,
   "metadata": {},
   "outputs": [
    {
     "name": "stdout",
     "output_type": "stream",
     "text": [
      "dim 1-chains: 5\n",
      "dim ker d_1: 2\n",
      "dim im d_2: 1\n"
     ]
    },
    {
     "data": {
      "text/plain": [
       "('dim homology:', 1)"
      ]
     },
     "execution_count": 30,
     "metadata": {},
     "output_type": "execute_result"
    }
   ],
   "source": [
    "bettiNumber(SCG.D1.astype('float64'), SCG.D2.astype('float64'))"
   ]
  }
 ],
 "metadata": {
  "kernelspec": {
   "display_name": "Python 3",
   "language": "python",
   "name": "python3"
  },
  "language_info": {
   "codemirror_mode": {
    "name": "ipython",
    "version": 3
   },
   "file_extension": ".py",
   "mimetype": "text/x-python",
   "name": "python",
   "nbconvert_exporter": "python",
   "pygments_lexer": "ipython3",
   "version": "3.7.6"
  }
 },
 "nbformat": 4,
 "nbformat_minor": 4
}
